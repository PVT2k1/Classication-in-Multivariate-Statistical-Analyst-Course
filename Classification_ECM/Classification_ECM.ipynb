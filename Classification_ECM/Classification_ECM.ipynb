{
  "nbformat": 4,
  "nbformat_minor": 0,
  "metadata": {
    "colab": {
      "name": "Classification_ECM.ipynb",
      "provenance": [],
      "collapsed_sections": []
    },
    "kernelspec": {
      "name": "python3",
      "display_name": "Python 3"
    },
    "language_info": {
      "name": "python"
    }
  },
  "cells": [
    {
      "cell_type": "markdown",
      "source": [
        "## ECM: Excepted Cost of Misclassification\n",
        "**Minimize cost of misclassification with multi population and have normal distribution**"
      ],
      "metadata": {
        "id": "FXwitPskcWPO"
      }
    },
    {
      "cell_type": "markdown",
      "source": [
        "#### 1. Import necessary libraries and prepare data"
      ],
      "metadata": {
        "id": "goEv0N3kpurG"
      }
    },
    {
      "cell_type": "code",
      "source": [
        "from numpy.core.arrayprint import printoptions\n",
        "import numpy as np\n",
        "import matplotlib.pyplot as plt\n",
        "from sklearn import datasets\n",
        "from sklearn.model_selection import train_test_split\n",
        "\n",
        "# Use Iris dataset in Scikit-learn\n",
        "iris = datasets.load_iris()\n",
        "iris_X = iris.data\n",
        "iris_y = iris.target\n",
        "train_X, test_X, train_y, test_y = train_test_split(iris_X, iris_y, train_size = 0.75)\n",
        "print('labels:',np.unique(iris_y))\n",
        "print('training size:', train_X.shape[0], 'test size:', test_X.shape[0])"
      ],
      "metadata": {
        "id": "AMPy_NDQdFnD",
        "colab": {
          "base_uri": "https://localhost:8080/"
        },
        "outputId": "5d6064c3-cdeb-46f6-dcbe-8735967ca5a1"
      },
      "execution_count": null,
      "outputs": [
        {
          "output_type": "stream",
          "name": "stdout",
          "text": [
            "labels: [0 1 2]\n",
            "training size: 112 test size: 38\n"
          ]
        }
      ]
    },
    {
      "cell_type": "markdown",
      "source": [
        "#### 2. Visualize data"
      ],
      "metadata": {
        "id": "UO3yg3T2rcyE"
      }
    },
    {
      "cell_type": "code",
      "source": [
        "X_train = np.concatenate((train_X, train_y.reshape(train_y.shape[0], 1)), axis = 1)\n",
        "# Sort data by labels\n",
        "X_0 = X_train[X_train[:, -1] == 0]\n",
        "X_1 = X_train[X_train[:, -1] == 1]\n",
        "X_2 = X_train[X_train[:, -1] == 2]\n",
        "train_X = [X_0, X_1, X_2]"
      ],
      "metadata": {
        "colab": {
          "base_uri": "https://localhost:8080/"
        },
        "id": "CilqJoIHrHp8",
        "outputId": "0a0c2a2d-3ac4-4fb6-e144-458d431766e3"
      },
      "execution_count": null,
      "outputs": [
        {
          "output_type": "execute_result",
          "data": {
            "text/plain": [
              "[array([[5.1, 3.8, 1.5, 0.3, 0. ],\n",
              "        [4.8, 3. , 1.4, 0.3, 0. ],\n",
              "        [5.1, 3.4, 1.5, 0.2, 0. ],\n",
              "        [5.5, 3.5, 1.3, 0.2, 0. ],\n",
              "        [5.1, 3.5, 1.4, 0.2, 0. ],\n",
              "        [5. , 3. , 1.6, 0.2, 0. ],\n",
              "        [5.4, 3.4, 1.5, 0.4, 0. ],\n",
              "        [4.6, 3.6, 1. , 0.2, 0. ],\n",
              "        [4.8, 3.4, 1.9, 0.2, 0. ],\n",
              "        [4.4, 3.2, 1.3, 0.2, 0. ],\n",
              "        [4.6, 3.1, 1.5, 0.2, 0. ],\n",
              "        [5.2, 3.4, 1.4, 0.2, 0. ],\n",
              "        [5.4, 3.9, 1.3, 0.4, 0. ],\n",
              "        [5.2, 3.5, 1.5, 0.2, 0. ],\n",
              "        [5.7, 3.8, 1.7, 0.3, 0. ],\n",
              "        [4.3, 3. , 1.1, 0.1, 0. ],\n",
              "        [5.4, 3.7, 1.5, 0.2, 0. ],\n",
              "        [4.8, 3.1, 1.6, 0.2, 0. ],\n",
              "        [5. , 3.4, 1.5, 0.2, 0. ],\n",
              "        [5. , 3.5, 1.3, 0.3, 0. ],\n",
              "        [5. , 3.2, 1.2, 0.2, 0. ],\n",
              "        [4.7, 3.2, 1.3, 0.2, 0. ],\n",
              "        [5.7, 4.4, 1.5, 0.4, 0. ],\n",
              "        [5.1, 3.8, 1.9, 0.4, 0. ],\n",
              "        [5. , 3.6, 1.4, 0.2, 0. ],\n",
              "        [4.9, 3.1, 1.5, 0.1, 0. ],\n",
              "        [5.3, 3.7, 1.5, 0.2, 0. ],\n",
              "        [4.7, 3.2, 1.6, 0.2, 0. ],\n",
              "        [4.9, 3. , 1.4, 0.2, 0. ],\n",
              "        [4.5, 2.3, 1.3, 0.3, 0. ],\n",
              "        [5.4, 3.9, 1.7, 0.4, 0. ],\n",
              "        [5.1, 3.3, 1.7, 0.5, 0. ],\n",
              "        [5.5, 4.2, 1.4, 0.2, 0. ],\n",
              "        [4.4, 2.9, 1.4, 0.2, 0. ],\n",
              "        [5. , 3.5, 1.6, 0.6, 0. ],\n",
              "        [4.6, 3.4, 1.4, 0.3, 0. ]]), array([[5.5, 2.6, 4.4, 1.2, 1. ],\n",
              "        [5.6, 3. , 4.5, 1.5, 1. ],\n",
              "        [5.4, 3. , 4.5, 1.5, 1. ],\n",
              "        [5.6, 2.7, 4.2, 1.3, 1. ],\n",
              "        [6.5, 2.8, 4.6, 1.5, 1. ],\n",
              "        [5. , 2. , 3.5, 1. , 1. ],\n",
              "        [5.2, 2.7, 3.9, 1.4, 1. ],\n",
              "        [6.3, 3.3, 4.7, 1.6, 1. ],\n",
              "        [6.7, 3.1, 4.7, 1.5, 1. ],\n",
              "        [7. , 3.2, 4.7, 1.4, 1. ],\n",
              "        [6. , 2.7, 5.1, 1.6, 1. ],\n",
              "        [6.6, 3. , 4.4, 1.4, 1. ],\n",
              "        [6.1, 2.8, 4. , 1.3, 1. ],\n",
              "        [5.1, 2.5, 3. , 1.1, 1. ],\n",
              "        [5.9, 3. , 4.2, 1.5, 1. ],\n",
              "        [5.8, 2.6, 4. , 1.2, 1. ],\n",
              "        [6.1, 3. , 4.6, 1.4, 1. ],\n",
              "        [5.7, 3. , 4.2, 1.2, 1. ],\n",
              "        [4.9, 2.4, 3.3, 1. , 1. ],\n",
              "        [6.2, 2.2, 4.5, 1.5, 1. ],\n",
              "        [6.8, 2.8, 4.8, 1.4, 1. ],\n",
              "        [5.6, 2.5, 3.9, 1.1, 1. ],\n",
              "        [6.4, 2.9, 4.3, 1.3, 1. ],\n",
              "        [5.9, 3.2, 4.8, 1.8, 1. ],\n",
              "        [5.6, 3. , 4.1, 1.3, 1. ],\n",
              "        [6. , 3.4, 4.5, 1.6, 1. ],\n",
              "        [6.4, 3.2, 4.5, 1.5, 1. ],\n",
              "        [6. , 2.9, 4.5, 1.5, 1. ],\n",
              "        [5.7, 2.6, 3.5, 1. , 1. ],\n",
              "        [6.3, 2.3, 4.4, 1.3, 1. ],\n",
              "        [6.9, 3.1, 4.9, 1.5, 1. ],\n",
              "        [6.7, 3.1, 4.4, 1.4, 1. ],\n",
              "        [6.7, 3. , 5. , 1.7, 1. ],\n",
              "        [5.8, 2.7, 3.9, 1.2, 1. ],\n",
              "        [5. , 2.3, 3.3, 1. , 1. ]]), array([[6.8, 3.2, 5.9, 2.3, 2. ],\n",
              "        [6.4, 2.8, 5.6, 2.1, 2. ],\n",
              "        [6.7, 3. , 5.2, 2.3, 2. ],\n",
              "        [6.9, 3.2, 5.7, 2.3, 2. ],\n",
              "        [5.8, 2.8, 5.1, 2.4, 2. ],\n",
              "        [6. , 3. , 4.8, 1.8, 2. ],\n",
              "        [7.1, 3. , 5.9, 2.1, 2. ],\n",
              "        [7.2, 3.2, 6. , 1.8, 2. ],\n",
              "        [6.3, 2.5, 5. , 1.9, 2. ],\n",
              "        [6.5, 3. , 5.8, 2.2, 2. ],\n",
              "        [6.8, 3. , 5.5, 2.1, 2. ],\n",
              "        [7.6, 3. , 6.6, 2.1, 2. ],\n",
              "        [6.5, 3. , 5.5, 1.8, 2. ],\n",
              "        [6.7, 3.3, 5.7, 2.1, 2. ],\n",
              "        [6.3, 2.9, 5.6, 1.8, 2. ],\n",
              "        [6.7, 3.1, 5.6, 2.4, 2. ],\n",
              "        [7.7, 2.8, 6.7, 2. , 2. ],\n",
              "        [6.7, 2.5, 5.8, 1.8, 2. ],\n",
              "        [6.4, 2.7, 5.3, 1.9, 2. ],\n",
              "        [5.8, 2.7, 5.1, 1.9, 2. ],\n",
              "        [6.4, 3.2, 5.3, 2.3, 2. ],\n",
              "        [4.9, 2.5, 4.5, 1.7, 2. ],\n",
              "        [6.1, 2.6, 5.6, 1.4, 2. ],\n",
              "        [6.1, 3. , 4.9, 1.8, 2. ],\n",
              "        [6.3, 2.7, 4.9, 1.8, 2. ],\n",
              "        [6.5, 3.2, 5.1, 2. , 2. ],\n",
              "        [5.6, 2.8, 4.9, 2. , 2. ],\n",
              "        [6.3, 3.4, 5.6, 2.4, 2. ],\n",
              "        [7.7, 2.6, 6.9, 2.3, 2. ],\n",
              "        [7.9, 3.8, 6.4, 2. , 2. ],\n",
              "        [5.7, 2.5, 5. , 2. , 2. ],\n",
              "        [6.5, 3. , 5.2, 2. , 2. ],\n",
              "        [7.2, 3. , 5.8, 1.6, 2. ],\n",
              "        [7.7, 3.8, 6.7, 2.2, 2. ],\n",
              "        [6.3, 3.3, 6. , 2.5, 2. ],\n",
              "        [5.8, 2.7, 5.1, 1.9, 2. ],\n",
              "        [6.3, 2.8, 5.1, 1.5, 2. ],\n",
              "        [6. , 2.2, 5. , 1.5, 2. ],\n",
              "        [7.7, 3. , 6.1, 2.3, 2. ],\n",
              "        [6.2, 3.4, 5.4, 2.3, 2. ],\n",
              "        [6.9, 3.1, 5.1, 2.3, 2. ]])]"
            ]
          },
          "metadata": {},
          "execution_count": 7
        }
      ]
    },
    {
      "cell_type": "markdown",
      "source": [
        "#### Build classification function and classify with test dataset"
      ],
      "metadata": {
        "id": "L6ilov8k8P7F"
      }
    },
    {
      "cell_type": "code",
      "source": [
        "# propability of each type\n",
        "p = []\n",
        "for i in range(len(train_X)):\n",
        "  p.append(len(train_X[i]) / len(X_train))\n",
        "p"
      ],
      "metadata": {
        "id": "dJTzHSWm8fFU"
      },
      "execution_count": null,
      "outputs": []
    }
  ]
}